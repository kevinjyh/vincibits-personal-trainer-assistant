{
 "cells": [
  {
   "cell_type": "code",
   "execution_count": 1,
   "metadata": {},
   "outputs": [],
   "source": [
    "import openai\n",
    "from dotenv import find_dotenv, load_dotenv\n",
    "import time\n",
    "import logging\n",
    "from datetime import datetime\n",
    "import os\n",
    "import requests\n",
    "import json\n",
    "\n",
    "load_dotenv()\n",
    "openai.api_key = os.environ.get(\"OPENAI_API_KEY\")\n",
    "news_api_key = os.environ.get(\"NEWS_API_KEY\")"
   ]
  },
  {
   "cell_type": "code",
   "execution_count": 6,
   "metadata": {},
   "outputs": [],
   "source": [
    "client = openai.OpenAI()\n",
    "model = \"gpt-3.5-turbo-16k\""
   ]
  },
  {
   "cell_type": "code",
   "execution_count": 8,
   "metadata": {},
   "outputs": [],
   "source": [
    "def get_news(topic):\n",
    "    url = (\n",
    "        f\"https://newsapi.org/v2/everything?q={topic}&apiKey={news_api_key}&pageSzie=5\"\n",
    "    )\n",
    "    try:\n",
    "        response = requests.get(url)\n",
    "        if response.status_code == 200:\n",
    "            news = json.dumps(response.json(), indent=4)\n",
    "            data = json.loads(news)\n",
    "\n",
    "            # Access all the fields in the JSON\n",
    "            status = data[\"status\"]\n",
    "            total_results = data[\"totalResults\"]\n",
    "            articles = data[\"articles\"]\n",
    "            final_news = []\n",
    "\n",
    "            # Loop through articles\n",
    "            for article in articles:\n",
    "                source_name = article[\"source\"][\"name\"]\n",
    "                author = article[\"author\"]\n",
    "                title = article[\"title\"]\n",
    "                description = article[\"description\"]\n",
    "                url = article[\"url\"]\n",
    "                content = article[\"content\"]\n",
    "                title_description = f\"\"\"\n",
    "                    Title: {title},\n",
    "                    Author: {author},\n",
    "                    Source: {source_name},\n",
    "                    Description: {description},\n",
    "                    URL: {url}\n",
    "\n",
    "                \"\"\"\n",
    "                final_news.append(title_description)\n",
    "        \n",
    "            return final_news\n",
    "        else:\n",
    "            print(\"Error occured during API Request\", response.status_code)\n",
    "            return []\n",
    "\n",
    "    except requests.exceptions.RequestException as e:\n",
    "        print(\"Error occured during API Request\", e)\n"
   ]
  },
  {
   "cell_type": "code",
   "execution_count": 10,
   "metadata": {},
   "outputs": [
    {
     "data": {
      "text/plain": [
       "'\\n                    Title: The Trial Over Bitcoin’s True Creator Is in Session,\\n                    Author: Joel Khalili,\\n                    Source: Wired,\\n                    Description: A UK High Court will settle a long-running debate over whether Craig Wright really is Satoshi Nakamoto, inventor of Bitcoin. Monday’s opening arguments laid the groundwork for both sides.,\\n                    URL: https://www.wired.com/story/craig-wright-bitcoin-satoshi-nakamoto-trial/\\n\\n                '"
      ]
     },
     "execution_count": 10,
     "metadata": {},
     "output_type": "execute_result"
    }
   ],
   "source": [
    "get_news(\"bitcoin\")[0]"
   ]
  }
 ],
 "metadata": {
  "kernelspec": {
   "display_name": "vincibits-personal-trainer-assistant-KY1MmqVj-py3.11",
   "language": "python",
   "name": "python3"
  },
  "language_info": {
   "codemirror_mode": {
    "name": "ipython",
    "version": 3
   },
   "file_extension": ".py",
   "mimetype": "text/x-python",
   "name": "python",
   "nbconvert_exporter": "python",
   "pygments_lexer": "ipython3",
   "version": "3.11.8"
  }
 },
 "nbformat": 4,
 "nbformat_minor": 2
}
