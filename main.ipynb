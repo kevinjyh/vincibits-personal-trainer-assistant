{
 "cells": [
  {
   "cell_type": "code",
   "execution_count": 3,
   "metadata": {},
   "outputs": [],
   "source": [
    "import openai\n",
    "from dotenv import find_dotenv, load_dotenv\n",
    "import time\n",
    "import logging\n",
    "from datetime import datetime\n",
    "import os\n",
    "\n",
    "load_dotenv()\n",
    "openai.api_key = os.environ.get(\"OPENAI_API_KEY\")"
   ]
  },
  {
   "cell_type": "code",
   "execution_count": 4,
   "metadata": {},
   "outputs": [],
   "source": [
    "client = openai.OpenAI()\n",
    "model = \"gpt-3.5-turbo-16k\""
   ]
  },
  {
   "cell_type": "code",
   "execution_count": 13,
   "metadata": {},
   "outputs": [
    {
     "name": "stdout",
     "output_type": "stream",
     "text": [
      "asst_pqiuJ0u4oY3Kajjd7B26NPm8\n"
     ]
    }
   ],
   "source": [
    "# ==  Create our Assistant (Uncomment this to create your assistant) ==\n",
    "personal_trainer_assis = client.beta.assistants.create(\n",
    "    name=\"個人訓練教練助理\",\n",
    "    instructions=\"\"\"你是最好的私人教練和營養師，知道如何讓客戶建立緊實的肌肉。\\n\n",
    "        你訓練過高素質的運動員和電影明星。\"\"\",\n",
    "    model=model,\n",
    ")\n",
    "asistant_id = personal_trainer_assis.id\n",
    "print(asistant_id)"
   ]
  },
  {
   "cell_type": "code",
   "execution_count": 6,
   "metadata": {},
   "outputs": [
    {
     "name": "stdout",
     "output_type": "stream",
     "text": [
      "thread_AnjVsMZuurSKEs9ug4S8QKjw\n"
     ]
    }
   ],
   "source": [
    "# === Thread (uncomment this to create your Thread) ===\n",
    "thread = client.beta.threads.create(\n",
    "    messages=[\n",
    "        {\n",
    "            \"role\": \"user\",\n",
    "            \"content\": \"How do I get started working out to lose fat and build muscles?\",\n",
    "        }\n",
    "    ]\n",
    ")\n",
    "thread_id = thread.id\n",
    "print(thread_id)"
   ]
  },
  {
   "cell_type": "code",
   "execution_count": 15,
   "metadata": {},
   "outputs": [],
   "source": [
    "# === Hardcode our ids ===\n",
    "asistant_id = \"asst_pqiuJ0u4oY3Kajjd7B26NPm8\"\n",
    "thread_id = \"thread_AnjVsMZuurSKEs9ug4S8QKjw\""
   ]
  },
  {
   "cell_type": "code",
   "execution_count": 16,
   "metadata": {},
   "outputs": [],
   "source": [
    "# ==== Create a Message ====\n",
    "message = \"一天要吃多少蛋白質才能增加肌肉？\"\n",
    "message = client.beta.threads.messages.create(\n",
    "    thread_id=thread_id, role=\"user\", content=message\n",
    ")"
   ]
  },
  {
   "cell_type": "code",
   "execution_count": 17,
   "metadata": {},
   "outputs": [],
   "source": [
    "# === Run our Assistant ===\n",
    "run = client.beta.threads.runs.create(\n",
    "    thread_id=thread_id,\n",
    "    assistant_id=asistant_id,\n",
    "    instructions=\"Please address the user as James Bond\",\n",
    ")"
   ]
  },
  {
   "cell_type": "code",
   "execution_count": 18,
   "metadata": {},
   "outputs": [],
   "source": [
    "def wait_for_run_completion(client, thread_id, run_id, sleep_interval=5):\n",
    "    \"\"\"\n",
    "\n",
    "    Waits for a run to complete and prints the elapsed time.:param client: The OpenAI client object.\n",
    "    :param thread_id: The ID of the thread.\n",
    "    :param run_id: The ID of the run.\n",
    "    :param sleep_interval: Time in seconds to wait between checks.\n",
    "    \"\"\"\n",
    "    while True:\n",
    "        try:\n",
    "            run = client.beta.threads.runs.retrieve(thread_id=thread_id, run_id=run_id)\n",
    "            if run.completed_at:\n",
    "                elapsed_time = run.completed_at - run.created_at\n",
    "                formatted_elapsed_time = time.strftime(\n",
    "                    \"%H:%M:%S\", time.gmtime(elapsed_time)\n",
    "                )\n",
    "                print(f\"Run completed in {formatted_elapsed_time}\")\n",
    "                logging.info(f\"Run completed in {formatted_elapsed_time}\")\n",
    "                # Get messages here once Run is completed!\n",
    "                messages = client.beta.threads.messages.list(thread_id=thread_id)\n",
    "                last_message = messages.data[0]\n",
    "                response = last_message.content[0].text.value\n",
    "                print(f\"Assistant Response: {response}\")\n",
    "                break\n",
    "        except Exception as e:\n",
    "            logging.error(f\"An error occurred while retrieving the run: {e}\")\n",
    "            break\n",
    "        logging.info(\"Waiting for run to complete...\")\n",
    "        time.sleep(sleep_interval)"
   ]
  },
  {
   "cell_type": "code",
   "execution_count": 19,
   "metadata": {},
   "outputs": [
    {
     "name": "stdout",
     "output_type": "stream",
     "text": [
      "Run completed in 00:00:14\n",
      "Assistant Response: 嗨，James Bond。增加肌肉需要足夠的蛋白質攝入量，但具體的需求量會因個人的體重、活動水平和目標而有所不同。普遍建議每公斤體重攝取每天1.6-2.2克的蛋白質。例如，如果你的體重是70公斤，那麼每天攝取大約112-154克蛋白質。這些蛋白質可以從各種來源獲得，例如肉類、雞蛋、魚類、奶製品、豆類和堅果等。此外，分散攝取蛋白質是重要的，可以在每餐中均勻分配，以確保肌肉得到持續的養分供應。請記住，諮詢營養專家或體能教練可能有助於制定適合你的具體計劃。祝你成功！\n"
     ]
    }
   ],
   "source": [
    "# === Run ===\n",
    "wait_for_run_completion(client=client, thread_id=thread_id, run_id=run.id)"
   ]
  },
  {
   "cell_type": "code",
   "execution_count": 20,
   "metadata": {},
   "outputs": [
    {
     "name": "stdout",
     "output_type": "stream",
     "text": [
      "Steps---> RunStep(id='step_yX4osRjTOjSeYZ9yw5ig59rs', assistant_id='asst_pqiuJ0u4oY3Kajjd7B26NPm8', cancelled_at=None, completed_at=1709559732, created_at=1709559719, expired_at=None, failed_at=None, last_error=None, metadata=None, object='thread.run.step', run_id='run_kuCTxT7PMEJLXBhQKIzh6ylh', status='completed', step_details=MessageCreationStepDetails(message_creation=MessageCreation(message_id='msg_YebhCkPM0m6ulYA7dYaivqW7'), type='message_creation'), thread_id='thread_AnjVsMZuurSKEs9ug4S8QKjw', type='message_creation', usage=Usage(completion_tokens=322, prompt_tokens=167, total_tokens=489), expires_at=None)\n"
     ]
    }
   ],
   "source": [
    "# ==== Steps --- Logs ==\n",
    "run_steps = client.beta.threads.runs.steps.list(thread_id=thread_id, run_id=run.id)\n",
    "print(f\"Steps---> {run_steps.data[0]}\")"
   ]
  }
 ],
 "metadata": {
  "kernelspec": {
   "display_name": "vincibits-personal-trainer-assistant-KY1MmqVj-py3.11",
   "language": "python",
   "name": "python3"
  },
  "language_info": {
   "codemirror_mode": {
    "name": "ipython",
    "version": 3
   },
   "file_extension": ".py",
   "mimetype": "text/x-python",
   "name": "python",
   "nbconvert_exporter": "python",
   "pygments_lexer": "ipython3",
   "version": "3.11.8"
  }
 },
 "nbformat": 4,
 "nbformat_minor": 2
}
