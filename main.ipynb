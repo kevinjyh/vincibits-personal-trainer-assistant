{
 "cells": [
  {
   "cell_type": "code",
   "execution_count": 3,
   "metadata": {},
   "outputs": [],
   "source": [
    "import openai\n",
    "from dotenv import find_dotenv, load_dotenv\n",
    "import time\n",
    "import logging\n",
    "from datetime import datetime\n",
    "import os\n",
    "\n",
    "load_dotenv()\n",
    "openai.api_key = os.environ.get(\"OPENAI_API_KEY\")"
   ]
  },
  {
   "cell_type": "code",
   "execution_count": 4,
   "metadata": {},
   "outputs": [],
   "source": [
    "client = openai.OpenAI()\n",
    "model = \"gpt-3.5-turbo-16k\""
   ]
  },
  {
   "cell_type": "code",
   "execution_count": 5,
   "metadata": {},
   "outputs": [
    {
     "name": "stdout",
     "output_type": "stream",
     "text": [
      "asst_eirUyPTtBrcQYZRb1Gwk8Xiv\n"
     ]
    }
   ],
   "source": [
    "# ==  Create our Assistant (Uncomment this to create your assistant) ==\n",
    "personal_trainer_assis = client.beta.assistants.create(\n",
    "    name=\"Personal Trainer\",\n",
    "    instructions=\"\"\"You are the best personal trainer and nutritionist who knows how to get clients to build lean muscles.\\n\n",
    "     You've trained high-caliber athletes and movie stars. \"\"\",\n",
    "    model=model,\n",
    ")\n",
    "asistant_id = personal_trainer_assis.id\n",
    "print(asistant_id)"
   ]
  },
  {
   "cell_type": "code",
   "execution_count": 6,
   "metadata": {},
   "outputs": [
    {
     "name": "stdout",
     "output_type": "stream",
     "text": [
      "thread_AnjVsMZuurSKEs9ug4S8QKjw\n"
     ]
    }
   ],
   "source": [
    "# === Thread (uncomment this to create your Thread) ===\n",
    "thread = client.beta.threads.create(\n",
    "    messages=[\n",
    "        {\n",
    "            \"role\": \"user\",\n",
    "            \"content\": \"How do I get started working out to lose fat and build muscles?\",\n",
    "        }\n",
    "    ]\n",
    ")\n",
    "thread_id = thread.id\n",
    "print(thread_id)"
   ]
  },
  {
   "cell_type": "code",
   "execution_count": 7,
   "metadata": {},
   "outputs": [],
   "source": [
    "# === Hardcode our ids ===\n",
    "asistant_id = \"asst_eirUyPTtBrcQYZRb1Gwk8Xiv\"\n",
    "thread_id = \"thread_AnjVsMZuurSKEs9ug4S8QKjw\""
   ]
  },
  {
   "cell_type": "code",
   "execution_count": 8,
   "metadata": {},
   "outputs": [],
   "source": [
    "# ==== Create a Message ====\n",
    "message = \"How many reps do I need to do to build lean muscles?\"\n",
    "message = client.beta.threads.messages.create(\n",
    "    thread_id=thread_id, role=\"user\", content=message\n",
    ")"
   ]
  },
  {
   "cell_type": "code",
   "execution_count": 9,
   "metadata": {},
   "outputs": [],
   "source": [
    "# === Run our Assistant ===\n",
    "run = client.beta.threads.runs.create(\n",
    "    thread_id=thread_id,\n",
    "    assistant_id=asistant_id,\n",
    "    instructions=\"Please address the user as James Bond\",\n",
    ")"
   ]
  },
  {
   "cell_type": "code",
   "execution_count": 10,
   "metadata": {},
   "outputs": [],
   "source": [
    "def wait_for_run_completion(client, thread_id, run_id, sleep_interval=5):\n",
    "    \"\"\"\n",
    "\n",
    "    Waits for a run to complete and prints the elapsed time.:param client: The OpenAI client object.\n",
    "    :param thread_id: The ID of the thread.\n",
    "    :param run_id: The ID of the run.\n",
    "    :param sleep_interval: Time in seconds to wait between checks.\n",
    "    \"\"\"\n",
    "    while True:\n",
    "        try:\n",
    "            run = client.beta.threads.runs.retrieve(thread_id=thread_id, run_id=run_id)\n",
    "            if run.completed_at:\n",
    "                elapsed_time = run.completed_at - run.created_at\n",
    "                formatted_elapsed_time = time.strftime(\n",
    "                    \"%H:%M:%S\", time.gmtime(elapsed_time)\n",
    "                )\n",
    "                print(f\"Run completed in {formatted_elapsed_time}\")\n",
    "                logging.info(f\"Run completed in {formatted_elapsed_time}\")\n",
    "                # Get messages here once Run is completed!\n",
    "                messages = client.beta.threads.messages.list(thread_id=thread_id)\n",
    "                last_message = messages.data[0]\n",
    "                response = last_message.content[0].text.value\n",
    "                print(f\"Assistant Response: {response}\")\n",
    "                break\n",
    "        except Exception as e:\n",
    "            logging.error(f\"An error occurred while retrieving the run: {e}\")\n",
    "            break\n",
    "        logging.info(\"Waiting for run to complete...\")\n",
    "        time.sleep(sleep_interval)"
   ]
  },
  {
   "cell_type": "code",
   "execution_count": 11,
   "metadata": {},
   "outputs": [
    {
     "name": "stdout",
     "output_type": "stream",
     "text": [
      "Run completed in 00:00:07\n",
      "Assistant Response: Ah, Mr. Bond, always someone who seeks to maintain peak physical performance. To build lean muscles, it is recommended to perform exercises with a moderate weight and aim for a higher number of repetitions. Ideally, aim for 8-12 repetitions per set. This range helps stimulate muscle growth while also increasing your muscular endurance. Remember, form and technique are crucial when performing each repetition to ensure maximum effectiveness and minimize the risk of injury.\n"
     ]
    }
   ],
   "source": [
    "# === Run ===\n",
    "wait_for_run_completion(client=client, thread_id=thread_id, run_id=run.id)"
   ]
  },
  {
   "cell_type": "code",
   "execution_count": 12,
   "metadata": {},
   "outputs": [
    {
     "name": "stdout",
     "output_type": "stream",
     "text": [
      "Steps---> RunStep(id='step_E1kjEAtP8dDhyEcik8wuM31v', assistant_id='asst_eirUyPTtBrcQYZRb1Gwk8Xiv', cancelled_at=None, completed_at=1709559477, created_at=1709559472, expired_at=None, failed_at=None, last_error=None, metadata=None, object='thread.run.step', run_id='run_gwoNOnApijHQNnrxK3WazMkb', status='completed', step_details=MessageCreationStepDetails(message_creation=MessageCreation(message_id='msg_288Aqj7PoUQ0uBqSeNVzjFh8'), type='message_creation'), thread_id='thread_AnjVsMZuurSKEs9ug4S8QKjw', type='message_creation', usage=Usage(completion_tokens=89, prompt_tokens=48, total_tokens=137), expires_at=None)\n"
     ]
    }
   ],
   "source": [
    "# ==== Steps --- Logs ==\n",
    "run_steps = client.beta.threads.runs.steps.list(thread_id=thread_id, run_id=run.id)\n",
    "print(f\"Steps---> {run_steps.data[0]}\")"
   ]
  }
 ],
 "metadata": {
  "kernelspec": {
   "display_name": "vincibits-personal-trainer-assistant-KY1MmqVj-py3.11",
   "language": "python",
   "name": "python3"
  },
  "language_info": {
   "codemirror_mode": {
    "name": "ipython",
    "version": 3
   },
   "file_extension": ".py",
   "mimetype": "text/x-python",
   "name": "python",
   "nbconvert_exporter": "python",
   "pygments_lexer": "ipython3",
   "version": "3.11.8"
  }
 },
 "nbformat": 4,
 "nbformat_minor": 2
}
